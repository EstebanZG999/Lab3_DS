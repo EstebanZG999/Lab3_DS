{
 "cells": [
  {
   "cell_type": "markdown",
   "id": "1c68954b",
   "metadata": {},
   "source": [
    "# Modelos de Deep Learning\n",
    "\n",
    "Laboratorio 03 – Deep Learning\n",
    "\n",
    "Edwin Ortega 22305 - Esteban Zambrano 22119 - Diego García 22404\n",
    "\n",
    "Link del repositorio:<br>\n",
    "https://github.com/EstebanZG999/Lab3_DS"
   ]
  },
  {
   "cell_type": "markdown",
   "id": "0925fa9e",
   "metadata": {},
   "source": [
    "### Imports"
   ]
  },
  {
   "cell_type": "code",
   "execution_count": 2,
   "id": "a62ac79a",
   "metadata": {},
   "outputs": [],
   "source": [
    "import os\n",
    "import numpy as np\n",
    "import pandas as pd\n",
    "import cv2\n",
    "from PIL import Image\n",
    "from torch.utils.data import Dataset, DataLoader\n",
    "from torchvision import transforms\n",
    "import torchvision.transforms as transforms\n",
    "import matplotlib.pyplot as plt\n",
    "import torch.nn as nn\n",
    "import torch.optim as optim\n",
    "import torch.nn.functional as F\n",
    "import torch\n",
    "#TensorFlow no está instalado en este entorno."
   ]
  },
  {
   "cell_type": "code",
   "execution_count": null,
   "id": "5e51072c",
   "metadata": {},
   "outputs": [],
   "source": [
    "import tensorflow as tf\n",
    "from tensorflow.keras import models, layers\n",
    "from tensorflow.keras.utils import Sequence, to_categorical\n",
    "from sklearn.model_selection import train_test_split\n",
    "from tensorflow.keras.callbacks import EarlyStopping"
   ]
  },
  {
   "cell_type": "markdown",
   "id": "297b042f",
   "metadata": {},
   "source": [
    "### Verifica entorno"
   ]
  },
  {
   "cell_type": "code",
   "execution_count": 3,
   "id": "40e6b897",
   "metadata": {},
   "outputs": [
    {
     "name": "stdout",
     "output_type": "stream",
     "text": [
      "¿CUDA disponible?: True\n",
      "GPU detectada: NVIDIA GeForce RTX 4060 Laptop GPU\n"
     ]
    }
   ],
   "source": [
    "# Verifica CUDA disponible\n",
    "print(\"¿CUDA disponible?:\", torch.cuda.is_available())\n",
    "\n",
    "# Verifica GPU\n",
    "if torch.cuda.is_available():\n",
    "    print(\"GPU detectada:\", torch.cuda.get_device_name(0))"
   ]
  },
  {
   "cell_type": "markdown",
   "id": "48c4f7ed",
   "metadata": {},
   "source": [
    "### Preprocesamiento y Dataset"
   ]
  },
  {
   "cell_type": "code",
   "execution_count": 4,
   "id": "a968f492",
   "metadata": {},
   "outputs": [],
   "source": [
    "class PolyMNISTDataset(Dataset):\n",
    "    def __init__(self, root_dir, transform=None):\n",
    "        \"\"\"\n",
    "        Dataset personalizado para PolyMNIST.\n",
    "        - root_dir: carpeta raíz que contiene subcarpetas m0, m1, ..., m4.\n",
    "        - transform: transformaciones a aplicar a cada imagen.\n",
    "        \"\"\"\n",
    "        self.image_paths = []\n",
    "        self.labels = []\n",
    "        self.transform = transform\n",
    "\n",
    "        for label in range(5):  # m0 = 0, m1 = 1, ..., m4 = 4\n",
    "            class_dir = os.path.join(root_dir, f\"m{label}\")\n",
    "            for img_name in os.listdir(class_dir):\n",
    "                if img_name.endswith(\".png\"):\n",
    "                    self.image_paths.append(os.path.join(class_dir, img_name))\n",
    "                    self.labels.append(label)\n",
    "\n",
    "    def __len__(self):\n",
    "        return len(self.image_paths)\n",
    "\n",
    "    def __getitem__(self, idx):\n",
    "        img_path = self.image_paths[idx]\n",
    "        label = self.labels[idx]\n",
    "\n",
    "        image = Image.open(img_path).convert(\"L\")  # convertir a escala de grises\n",
    "        if self.transform:\n",
    "            image = self.transform(image)\n",
    "\n",
    "        return image, label\n"
   ]
  },
  {
   "cell_type": "markdown",
   "id": "9c0fc743",
   "metadata": {},
   "source": [
    "Cargar el dataset y crear el DataLoader"
   ]
  },
  {
   "cell_type": "code",
   "execution_count": 6,
   "id": "ca56382e",
   "metadata": {},
   "outputs": [
    {
     "name": "stdout",
     "output_type": "stream",
     "text": [
      "Shape batch imágenes: torch.Size([64, 1, 28, 28])\n",
      "Labels: tensor([2, 0, 3, 4, 1, 0, 4, 3, 2, 1])\n"
     ]
    }
   ],
   "source": [
    "# Definir transformaciones\n",
    "transform = transforms.Compose([\n",
    "    transforms.Resize((28, 28)),       \n",
    "    transforms.ToTensor(),             \n",
    "    transforms.Normalize((0.5,), (0.5,))\n",
    "])\n",
    "\n",
    "# Dataset y DataLoader\n",
    "train_dir = \"../data/PolyMNIST/MMNIST/train\" \n",
    "test_dir = \"../data/PolyMNIST/MMNIST/test\"   \n",
    "\n",
    "train_dataset = PolyMNISTDataset(root_dir=train_dir, transform=transform)\n",
    "test_dataset = PolyMNISTDataset(root_dir=test_dir, transform=transform)\n",
    "\n",
    "train_loader = DataLoader(train_dataset, batch_size=64, shuffle=True)\n",
    "test_loader = DataLoader(test_dataset, batch_size=64, shuffle=False)\n",
    "\n",
    "# Verifica que funciona\n",
    "images, labels = next(iter(train_loader))\n",
    "print(f\"Shape batch imágenes: {images.shape}\")\n",
    "print(f\"Labels: {labels[:10]}\")\n"
   ]
  },
  {
   "cell_type": "markdown",
   "id": "4d185130",
   "metadata": {},
   "source": [
    "GPU Check en el loader"
   ]
  },
  {
   "cell_type": "code",
   "execution_count": 7,
   "id": "90b41fe8",
   "metadata": {},
   "outputs": [
    {
     "name": "stdout",
     "output_type": "stream",
     "text": [
      "Entrenando en: cuda\n",
      "Datos en GPU: cuda:0\n"
     ]
    }
   ],
   "source": [
    "# GPU Check en el loader\n",
    "device = torch.device(\"cuda\" if torch.cuda.is_available() else \"cpu\")\n",
    "print(\"Entrenando en:\", device)\n",
    "\n",
    "# Mover un batch de prueba a GPU\n",
    "images, labels = next(iter(train_loader))\n",
    "images, labels = images.to(device), labels.to(device)\n",
    "print(\"Datos en GPU:\", images.device)"
   ]
  },
  {
   "cell_type": "markdown",
   "id": "0afc5df7",
   "metadata": {},
   "source": [
    "### Primer Modelo CNN "
   ]
  },
  {
   "cell_type": "code",
   "execution_count": 26,
   "id": "6efd6285",
   "metadata": {},
   "outputs": [],
   "source": [
    "class CNNModel(nn.Module):\n",
    "    def __init__(self):\n",
    "        super(CNNModel, self).__init__()\n",
    "        self.conv1 = nn.Conv2d(in_channels=1, out_channels=16, kernel_size=3, padding=1)\n",
    "        self.conv2 = nn.Conv2d(in_channels=16, out_channels=32, kernel_size=3, padding=1)\n",
    "        self.pool = nn.MaxPool2d(kernel_size=2, stride=2)  # Reducción de tamaño a la mitad\n",
    "        self.fc1 = nn.Linear(32 * 7 * 7, 128)  # Flatten final\n",
    "        self.fc2 = nn.Linear(128, 5)  # 5 clases: m0 a m4\n",
    "\n",
    "    def forward(self, x):\n",
    "        x = self.pool(F.relu(self.conv1(x)))  # [1, 28, 28] -> [16, 14, 14]\n",
    "        x = self.pool(F.relu(self.conv2(x)))  # [16, 14, 14] -> [32, 7, 7]\n",
    "        x = x.view(-1, 32 * 7 * 7)\n",
    "        x = F.relu(self.fc1(x))\n",
    "        return self.fc2(x)"
   ]
  },
  {
   "cell_type": "markdown",
   "id": "2702e105",
   "metadata": {},
   "source": [
    "##### Entrenaiento primer modelo"
   ]
  },
  {
   "cell_type": "code",
   "execution_count": 27,
   "id": "335ae0c4",
   "metadata": {},
   "outputs": [
    {
     "name": "stdout",
     "output_type": "stream",
     "text": [
      "Modelo en: cuda:0\n",
      "Época 1/5 — Loss: 0.2996, Accuracy: 0.8850\n",
      "Época 2/5 — Loss: 0.0941, Accuracy: 0.9668\n",
      "Época 3/5 — Loss: 0.0583, Accuracy: 0.9792\n",
      "Época 4/5 — Loss: 0.0435, Accuracy: 0.9846\n",
      "Época 5/5 — Loss: 0.0358, Accuracy: 0.9872\n",
      "\n",
      "— Test Loss: 0.0321, Test Accuracy: 0.9888\n"
     ]
    }
   ],
   "source": [
    "# Función de pérdida y optimizador\n",
    "model = CNNModel().to(device)\n",
    "print(\"Modelo en:\", next(model.parameters()).device)\n",
    "criterion = nn.CrossEntropyLoss()\n",
    "optimizer = torch.optim.Adam(model.parameters(), lr=0.001)\n",
    "\n",
    "# Verifica que estemos entrenando en GPU\n",
    "assert device.type == \"cuda\", \"La GPU no se está utilizando. Revisa tu configuración.\"\n",
    "\n",
    "train_losses = []\n",
    "train_accuracies = []\n",
    "\n",
    "# Bucle de entrenamiento\n",
    "epochs = 5\n",
    "for epoch in range(1, epochs+1):\n",
    "    model.train()\n",
    "    running_loss = 0.0\n",
    "    correct = 0\n",
    "    total = 0\n",
    "\n",
    "    for images, labels in train_loader:\n",
    "        images, labels = images.to(device), labels.to(device)\n",
    "\n",
    "        optimizer.zero_grad()\n",
    "        outputs = model(images)\n",
    "        loss = criterion(outputs, labels)\n",
    "        loss.backward()\n",
    "        optimizer.step()\n",
    "\n",
    "        running_loss += loss.item() * images.size(0)\n",
    "        _, preds = torch.max(outputs, 1)\n",
    "        correct += (preds == labels).sum().item()\n",
    "        total += labels.size(0)\n",
    "\n",
    "    epoch_loss = running_loss / total\n",
    "    epoch_acc  = correct / total\n",
    "    train_losses.append(epoch_loss)\n",
    "    train_accuracies.append(epoch_acc)\n",
    "    print(f\"Época {epoch}/{epochs} — Loss: {epoch_loss:.4f}, Accuracy: {epoch_acc:.4f}\")\n",
    "\n",
    "# Evaluación en el set de test\n",
    "model.eval()\n",
    "test_loss = 0.0\n",
    "correct = 0\n",
    "total = 0\n",
    "\n",
    "with torch.no_grad():\n",
    "    for images, labels in test_loader:\n",
    "        images, labels = images.to(device), labels.to(device)\n",
    "        outputs = model(images)\n",
    "        loss = criterion(outputs, labels)\n",
    "\n",
    "        test_loss += loss.item() * images.size(0)\n",
    "        _, preds = torch.max(outputs, 1)\n",
    "        correct += (preds == labels).sum().item()\n",
    "        total += labels.size(0)\n",
    "\n",
    "test_loss /= total\n",
    "test_acc  = correct / total\n",
    "print(f\"\\n— Test Loss: {test_loss:.4f}, Test Accuracy: {test_acc:.4f}\")"
   ]
  },
  {
   "cell_type": "code",
   "execution_count": 28,
   "id": "c8645667",
   "metadata": {},
   "outputs": [
    {
     "data": {
      "image/png": "[encoded data removed]",
      "text/plain": [
       "<Figure size 1000x400 with 2 Axes>"
      ]
     },
     "metadata": {},
     "output_type": "display_data"
    }
   ],
   "source": [
    "plt.figure(figsize=(10, 4))\n",
    "\n",
    "# Gráfica del Loss\n",
    "plt.subplot(1, 2, 1)\n",
    "plt.plot(train_losses, marker='o', label=\"Loss de entrenamiento\")\n",
    "plt.xlabel(\"Épocas\")\n",
    "plt.ylabel(\"Loss\")\n",
    "plt.title(\"Evolución del Loss\")\n",
    "plt.grid(True)\n",
    "plt.legend()\n",
    "\n",
    "# Gráfica del Accuracy\n",
    "plt.subplot(1, 2, 2)\n",
    "plt.plot(train_accuracies, marker='o', color='green', label=\"Accuracy de entrenamiento\")\n",
    "plt.xlabel(\"Épocas\")\n",
    "plt.ylabel(\"Accuracy\")\n",
    "plt.title(\"Evolución del Accuracy\")\n",
    "plt.grid(True)\n",
    "plt.legend()\n",
    "\n",
    "plt.tight_layout()\n",
    "plt.show()"
   ]
  },
  {
   "cell_type": "markdown",
   "id": "1e7d2859",
   "metadata": {},
   "source": [
    "### Segundo Modelo CNN "
   ]
  },
  {
   "cell_type": "code",
   "execution_count": 39,
   "id": "2c1705a5",
   "metadata": {},
   "outputs": [],
   "source": [
    "class CNNModelV2(nn.Module):\n",
    "    def __init__(self):\n",
    "        super(CNNModelV2, self).__init__()\n",
    "        self.conv1 = nn.Conv2d(1, 32, 3, padding=1)\n",
    "        self.conv2 = nn.Conv2d(32, 64, 3, padding=1)\n",
    "        self.pool = nn.MaxPool2d(2, 2)\n",
    "        self.dropout1 = nn.Dropout(0.25)\n",
    "\n",
    "        self.conv3 = nn.Conv2d(64, 128, 3, padding=1)\n",
    "        self.dropout2 = nn.Dropout(0.25)\n",
    "\n",
    "        self.fc1 = nn.Linear(128 * 7 * 7, 128)\n",
    "        self.dropout3 = nn.Dropout(0.5)\n",
    "        self.fc2 = nn.Linear(128, 10)\n",
    "\n",
    "    def forward(self, x):\n",
    "        x = F.relu(self.conv1(x))        \n",
    "        x = self.pool(F.relu(self.conv2(x))) \n",
    "        x = self.dropout1(x)\n",
    "\n",
    "        x = self.pool(F.relu(self.conv3(x))) \n",
    "        x = self.dropout2(x)\n",
    "\n",
    "        x = x.view(x.size(0), -1) \n",
    "        x = F.relu(self.fc1(x))\n",
    "        x = self.dropout3(x)\n",
    "        x = self.fc2(x)\n",
    "        return x\n"
   ]
  },
  {
   "cell_type": "markdown",
   "id": "ed37f2e3",
   "metadata": {},
   "source": [
    "##### Entrenaiento segundo modelo"
   ]
  },
  {
   "cell_type": "code",
   "execution_count": 40,
   "id": "a8c34845",
   "metadata": {},
   "outputs": [
    {
     "name": "stdout",
     "output_type": "stream",
     "text": [
      "Modelo en: cuda:0\n",
      "Época 1/5 — Loss: 0.2109, Accuracy: 0.9221\n",
      "Época 2/5 — Loss: 0.0474, Accuracy: 0.9851\n",
      "Época 3/5 — Loss: 0.0317, Accuracy: 0.9897\n",
      "Época 4/5 — Loss: 0.0255, Accuracy: 0.9917\n",
      "Época 5/5 — Loss: 0.0215, Accuracy: 0.9932\n"
     ]
    }
   ],
   "source": [
    "model_v2 = CNNModelV2().to(device)\n",
    "print(\"Modelo en:\", next(model_v2.parameters()).device)\n",
    "criterion = nn.CrossEntropyLoss()\n",
    "optimizer = torch.optim.Adam(model_v2.parameters(), lr=0.001)\n",
    "\n",
    "train_losses_v2 = []\n",
    "train_accuracies_v2 = []\n",
    "\n",
    "epochs = 5\n",
    "for epoch in range(1, epochs+1):\n",
    "    model_v2.train()\n",
    "    running_loss = 0.0\n",
    "    correct = 0\n",
    "    total = 0\n",
    "\n",
    "    for images, labels in train_loader:\n",
    "        images, labels = images.to(device), labels.to(device)\n",
    "\n",
    "        optimizer.zero_grad()\n",
    "        outputs = model_v2(images)\n",
    "        loss = criterion(outputs, labels)\n",
    "        loss.backward()\n",
    "        optimizer.step()\n",
    "\n",
    "        running_loss += loss.item() * images.size(0)\n",
    "        _, preds = torch.max(outputs, 1)\n",
    "        correct += (preds == labels).sum().item()\n",
    "        total += labels.size(0)\n",
    "\n",
    "    epoch_loss = running_loss / total\n",
    "    epoch_acc  = correct / total\n",
    "    train_losses_v2.append(epoch_loss)\n",
    "    train_accuracies_v2.append(epoch_acc)\n",
    "    print(f\"Época {epoch}/{epochs} — Loss: {epoch_loss:.4f}, Accuracy: {epoch_acc:.4f}\")"
   ]
  },
  {
   "cell_type": "code",
   "execution_count": 51,
   "id": "de704ba1",
   "metadata": {},
   "outputs": [
    {
     "name": "stdout",
     "output_type": "stream",
     "text": [
      "\n",
      "Test Loss: 0.0090, Test Accuracy: 0.9970\n"
     ]
    }
   ],
   "source": [
    "model_v2.eval()\n",
    "\n",
    "test_loss = 0.0\n",
    "correct = 0\n",
    "total = 0\n",
    "\n",
    "with torch.no_grad():\n",
    "    for images, labels in test_loader:\n",
    "        images, labels = images.to(device), labels.to(device)\n",
    "        outputs = model_v2(images)\n",
    "        loss = criterion(outputs, labels)\n",
    "\n",
    "        test_loss += loss.item() * images.size(0)\n",
    "        _, preds = torch.max(outputs, 1)\n",
    "        correct += (preds == labels).sum().item()\n",
    "        total += labels.size(0)\n",
    "\n",
    "# Promediar loss\n",
    "test_loss /= total\n",
    "test_acc = correct / total\n",
    "\n",
    "print(f\"\\nTest Loss: {test_loss:.4f}, Test Accuracy: {test_acc:.4f}\")\n"
   ]
  },
  {
   "cell_type": "code",
   "execution_count": 52,
   "id": "51691977",
   "metadata": {},
   "outputs": [
    {
     "data": {
      "image/png": "[encoded data removed]",
      "text/plain": [
       "<Figure size 1000x400 with 2 Axes>"
      ]
     },
     "metadata": {},
     "output_type": "display_data"
    }
   ],
   "source": [
    "epochs_range = range(epochs)\n",
    "plt.figure(figsize=(10,4))\n",
    "\n",
    "plt.subplot(1, 2, 1)\n",
    "plt.plot(epochs_range, train_losses_v2, marker='o', label='Loss de entrenamiento')\n",
    "plt.xlabel(\"Épocas\")\n",
    "plt.ylabel(\"Loss\")\n",
    "plt.title(\"Evolución del Loss\")\n",
    "plt.legend()\n",
    "\n",
    "plt.subplot(1, 2, 2)\n",
    "plt.plot(epochs_range, train_accuracies_v2, marker='o', label='Accuracy de entrenamiento', color='green')\n",
    "plt.xlabel(\"Épocas\")\n",
    "plt.ylabel(\"Accuracy\")\n",
    "plt.title(\"Evolución del Accuracy\")\n",
    "plt.legend()\n",
    "\n",
    "plt.tight_layout()\n",
    "plt.show()"
   ]
  },
  {
   "cell_type": "markdown",
   "id": "00fc26aa",
   "metadata": {},
   "source": [
    "### Modelo de Redes Neuronales"
   ]
  },
  {
   "cell_type": "code",
   "execution_count": 10,
   "id": "75fa84fe",
   "metadata": {},
   "outputs": [],
   "source": [
    "class PolyMNISTGenerator(Sequence):\n",
    "    def __init__(self, file_list, batch_size=64, img_size=(28, 28), shuffle=True):\n",
    "        self.file_list = file_list  # lista de (ruta_completa, nombre_archivo)\n",
    "        self.batch_size = batch_size\n",
    "        self.img_size = img_size\n",
    "        self.shuffle = shuffle\n",
    "        self.on_epoch_end()\n",
    "\n",
    "    def __len__(self):\n",
    "        return int(np.ceil(len(self.file_list) / self.batch_size))\n",
    "\n",
    "    def __getitem__(self, index):\n",
    "        batch_files = self.file_list[index*self.batch_size:(index+1)*self.batch_size]\n",
    "        X = np.zeros((len(batch_files), *self.img_size, 1), dtype='float32')\n",
    "        y = np.zeros((len(batch_files), 10), dtype='float32')\n",
    "\n",
    "        for i, (full_path, fname) in enumerate(batch_files):\n",
    "            img = cv2.imread(full_path, cv2.IMREAD_GRAYSCALE)\n",
    "            img = cv2.resize(img, self.img_size)\n",
    "            img = img.astype('float32') / 255.0\n",
    "            X[i] = img.reshape(*self.img_size, 1)\n",
    "\n",
    "            label = int(os.path.splitext(fname)[0].split('.')[1])\n",
    "            y[i] = to_categorical(label, num_classes=10)\n",
    "\n",
    "        return X, y\n",
    "\n",
    "    def on_epoch_end(self):\n",
    "        if self.shuffle:\n",
    "            np.random.shuffle(self.file_list)\n"
   ]
  },
  {
   "cell_type": "code",
   "execution_count": 11,
   "id": "58f1ca29",
   "metadata": {},
   "outputs": [],
   "source": [
    "def collect_files(base_dir, modalities=[\"m0\", \"m1\", \"m2\", \"m3\", \"m4\"]):\n",
    "    file_list = []\n",
    "    for mod in modalities:\n",
    "        mod_path = os.path.join(base_dir, mod)\n",
    "        for fname in os.listdir(mod_path):\n",
    "            if fname.endswith('.png'):\n",
    "                full_path = os.path.join(mod_path, fname)\n",
    "                file_list.append((full_path, fname))\n",
    "    return file_list\n",
    "\n",
    "# Ruta base\n",
    "BASE_DIR = \"../data/PolyMNIST/MMNIST/train\"\n",
    "\n",
    "# Recolectar todos los archivos\n",
    "all_files = collect_files(BASE_DIR)\n",
    "\n",
    "# Dividir en train/val\n",
    "train_files, val_files = train_test_split(all_files, test_size=0.2, random_state=42)\n",
    "\n",
    "# Crear generadores\n",
    "train_gen = PolyMNISTGenerator(train_files, batch_size=64)\n",
    "val_gen = PolyMNISTGenerator(val_files, batch_size=64, shuffle=False)\n"
   ]
  },
  {
   "cell_type": "code",
   "execution_count": 12,
   "id": "29d69986",
   "metadata": {},
   "outputs": [],
   "source": [
    "RNModel = models.Sequential([\n",
    "    layers.Input(shape=(28, 28, 1)),\n",
    "    layers.Flatten(),\n",
    "    layers.Dense(128, activation='relu'),\n",
    "    layers.Dense(10, activation='softmax')\n",
    "])\n"
   ]
  },
  {
   "cell_type": "code",
   "execution_count": 18,
   "id": "76ba1048",
   "metadata": {},
   "outputs": [],
   "source": [
    "early_stop = EarlyStopping(\n",
    "    monitor='val_loss',\n",
    "    patience=3,\n",
    "    restore_best_weights=True\n",
    ")"
   ]
  },
  {
   "cell_type": "code",
   "execution_count": 19,
   "id": "e6417b43",
   "metadata": {},
   "outputs": [
    {
     "name": "stdout",
     "output_type": "stream",
     "text": [
      "Epoch 1/20\n",
      "\u001b[1m3750/3750\u001b[0m \u001b[32m━━━━━━━━━━━━━━━━━━━━\u001b[0m\u001b[37m\u001b[0m \u001b[1m237s\u001b[0m 63ms/step - accuracy: 0.8271 - loss: 0.5541 - val_accuracy: 0.8031 - val_loss: 0.6472\n",
      "Epoch 2/20\n",
      "\u001b[1m3750/3750\u001b[0m \u001b[32m━━━━━━━━━━━━━━━━━━━━\u001b[0m\u001b[37m\u001b[0m \u001b[1m126s\u001b[0m 34ms/step - accuracy: 0.8310 - loss: 0.5431 - val_accuracy: 0.8135 - val_loss: 0.6312\n",
      "Epoch 3/20\n",
      "\u001b[1m3750/3750\u001b[0m \u001b[32m━━━━━━━━━━━━━━━━━━━━\u001b[0m\u001b[37m\u001b[0m \u001b[1m126s\u001b[0m 34ms/step - accuracy: 0.8340 - loss: 0.5336 - val_accuracy: 0.8150 - val_loss: 0.6205\n",
      "Epoch 4/20\n",
      "\u001b[1m3750/3750\u001b[0m \u001b[32m━━━━━━━━━━━━━━━━━━━━\u001b[0m\u001b[37m\u001b[0m \u001b[1m127s\u001b[0m 34ms/step - accuracy: 0.8371 - loss: 0.5231 - val_accuracy: 0.8018 - val_loss: 0.6436\n",
      "Epoch 5/20\n",
      "\u001b[1m3750/3750\u001b[0m \u001b[32m━━━━━━━━━━━━━━━━━━━━\u001b[0m\u001b[37m\u001b[0m \u001b[1m126s\u001b[0m 34ms/step - accuracy: 0.8360 - loss: 0.5256 - val_accuracy: 0.8213 - val_loss: 0.6121\n",
      "Epoch 6/20\n",
      "\u001b[1m3750/3750\u001b[0m \u001b[32m━━━━━━━━━━━━━━━━━━━━\u001b[0m\u001b[37m\u001b[0m \u001b[1m125s\u001b[0m 33ms/step - accuracy: 0.8386 - loss: 0.5148 - val_accuracy: 0.8183 - val_loss: 0.6154\n",
      "Epoch 7/20\n",
      "\u001b[1m3750/3750\u001b[0m \u001b[32m━━━━━━━━━━━━━━━━━━━━\u001b[0m\u001b[37m\u001b[0m \u001b[1m123s\u001b[0m 33ms/step - accuracy: 0.8405 - loss: 0.5104 - val_accuracy: 0.8134 - val_loss: 0.6263\n",
      "Epoch 8/20\n",
      "\u001b[1m3750/3750\u001b[0m \u001b[32m━━━━━━━━━━━━━━━━━━━━\u001b[0m\u001b[37m\u001b[0m \u001b[1m165s\u001b[0m 44ms/step - accuracy: 0.8430 - loss: 0.5055 - val_accuracy: 0.8215 - val_loss: 0.6067\n",
      "Epoch 9/20\n",
      "\u001b[1m3750/3750\u001b[0m \u001b[32m━━━━━━━━━━━━━━━━━━━━\u001b[0m\u001b[37m\u001b[0m \u001b[1m202s\u001b[0m 54ms/step - accuracy: 0.8457 - loss: 0.4948 - val_accuracy: 0.8231 - val_loss: 0.6105\n",
      "Epoch 10/20\n",
      "\u001b[1m3750/3750\u001b[0m \u001b[32m━━━━━━━━━━━━━━━━━━━━\u001b[0m\u001b[37m\u001b[0m \u001b[1m184s\u001b[0m 49ms/step - accuracy: 0.8442 - loss: 0.4969 - val_accuracy: 0.8218 - val_loss: 0.6186\n",
      "Epoch 11/20\n",
      "\u001b[1m3750/3750\u001b[0m \u001b[32m━━━━━━━━━━━━━━━━━━━━\u001b[0m\u001b[37m\u001b[0m \u001b[1m180s\u001b[0m 48ms/step - accuracy: 0.8455 - loss: 0.4956 - val_accuracy: 0.8141 - val_loss: 0.6350\n"
     ]
    }
   ],
   "source": [
    "RNModel.compile(optimizer='adam',\n",
    "              loss='categorical_crossentropy',\n",
    "              metrics=['accuracy'])\n",
    "\n",
    "history = RNModel.fit(\n",
    "    train_gen,\n",
    "    epochs=20,\n",
    "    validation_data=val_gen,\n",
    "    callbacks=[early_stop]\n",
    ")\n"
   ]
  },
  {
   "cell_type": "code",
   "execution_count": 20,
   "id": "50607c4f",
   "metadata": {},
   "outputs": [
    {
     "name": "stdout",
     "output_type": "stream",
     "text": [
      "\u001b[1m938/938\u001b[0m \u001b[32m━━━━━━━━━━━━━━━━━━━━\u001b[0m\u001b[37m\u001b[0m \u001b[1m22s\u001b[0m 24ms/step - accuracy: 0.8228 - loss: 0.6067\n",
      "Precisión en validación: 82.15%\n"
     ]
    },
    {
     "data": {
      "image/png": "[encoded data removed]",
      "text/plain": [
       "<Figure size 640x480 with 1 Axes>"
      ]
     },
     "metadata": {},
     "output_type": "display_data"
    }
   ],
   "source": [
    "val_loss, val_acc = RNModel.evaluate(val_gen)\n",
    "print(f\"Precisión en validación: {val_acc*100:.2f}%\")\n",
    "\n",
    "plt.plot(history.history['accuracy'], label='Entrenamiento')\n",
    "plt.plot(history.history['val_accuracy'], label='Validación')\n",
    "plt.title('Precisión durante el entrenamiento')\n",
    "plt.xlabel('Épocas')\n",
    "plt.ylabel('Precisión')\n",
    "plt.legend()\n",
    "plt.grid(True)\n",
    "plt.tight_layout()\n",
    "plt.show()\n"
   ]
  },
  {
   "cell_type": "markdown",
   "id": "1d913999",
   "metadata": {},
   "source": [
    "### Modelo MLP "
   ]
  },
  {
   "cell_type": "code",
   "execution_count": 1,
   "id": "11855c11",
   "metadata": {},
   "outputs": [],
   "source": [
    "# ----------------------------------------------------------------------\n",
    "# 1. Imports\n",
    "# ----------------------------------------------------------------------\n",
    "\n",
    "import os\n",
    "import time\n",
    "import numpy as np\n",
    "import matplotlib.pyplot as plt\n",
    "import cv2, time\n",
    "from concurrent.futures import ThreadPoolExecutor\n",
    "import torch, torch.nn as nn, torch.optim as optim\n",
    "import torch_directml\n",
    "from PIL import Image\n",
    "from sklearn.model_selection import train_test_split\n",
    "from sklearn.decomposition import PCA\n",
    "from sklearn.svm import SVC\n",
    "from sklearn.preprocessing import StandardScaler\n",
    "from sklearn.metrics import classification_report, confusion_matrix, ConfusionMatrixDisplay\n",
    "import albumentations as A"
   ]
  },
  {
   "cell_type": "code",
   "execution_count": 2,
   "id": "548a42a4",
   "metadata": {},
   "outputs": [],
   "source": [
    "# ----------------------------------------------------------------------\n",
    "# 2. Parámetros y rutas\n",
    "# ----------------------------------------------------------------------\n",
    "BASE_PATH   = \"../data/PolyMNIST/MMNIST/train\"\n",
    "MODALITIES  = [\"m0\", \"m1\", \"m2\", \"m3\", \"m4\"]   # usa [\"m0\"] para pruebas\n",
    "IMG_SIZE    = (28, 28)\n",
    "PCA_VAR     = 0.95\n",
    "TEST_RATIO  = 0.20\n",
    "BATCH_SZ    = 2048\n",
    "EPOCHS      = 30\n",
    "LR          = 2e-3\n",
    "N_THREADS   = 16"
   ]
  },
  {
   "cell_type": "code",
   "execution_count": 3,
   "id": "ca8ed972",
   "metadata": {},
   "outputs": [
    {
     "name": "stdout",
     "output_type": "stream",
     "text": [
      "➜ Cargando PolyMNIST …\n",
      "   · 300000 imágenes cargadas en 18.7s\n",
      "Etiquetas únicas: [0 1 2 3 4]\n"
     ]
    }
   ],
   "source": [
    "# ----------------------------------------------------------------------\n",
    "# 3. Carga, filtrado, escalado y PCA\n",
    "# ----------------------------------------------------------------------\n",
    "def load_polymnist_modality_labels(base_path, modalities, img_size, n_threads=N_THREADS):\n",
    "    paths = []\n",
    "    labels = []\n",
    "    for mi, mod in enumerate(modalities):\n",
    "        folder = os.path.join(base_path, mod)\n",
    "        for f in os.listdir(folder):\n",
    "            if f.endswith(\".png\"):\n",
    "                paths.append(os.path.join(folder, f))\n",
    "                labels.append(mi)  # m0→0, m1→1, ..., m4→4\n",
    "\n",
    "    def _read(p_label):\n",
    "        p, lbl = p_label\n",
    "        img = cv2.imread(p, cv2.IMREAD_GRAYSCALE)\n",
    "        if img.shape != img_size:\n",
    "            img = cv2.resize(img, img_size, interpolation=cv2.INTER_LINEAR)\n",
    "        return img.flatten(), lbl\n",
    "\n",
    "    with ThreadPoolExecutor(max_workers=n_threads) as pool:\n",
    "        X_list, y_list = zip(*pool.map(_read, zip(paths, labels)))\n",
    "    X = np.stack(X_list, dtype=np.float32) / 255.0\n",
    "    y = np.array(y_list)\n",
    "    return X, y\n",
    "\n",
    "print(\"➜ Cargando PolyMNIST …\")\n",
    "t0 = time.time()\n",
    "X, y = load_polymnist_modality_labels(BASE_PATH, MODALITIES, IMG_SIZE)\n",
    "print(f\"   · {X.shape[0]} imágenes cargadas en {time.time()-t0:.1f}s\")\n",
    "print(\"Etiquetas únicas:\", np.unique(y))\n",
    "N_CLASSES = len(np.unique(y))  # debería ser 5\n"
   ]
  },
  {
   "cell_type": "code",
   "execution_count": null,
   "id": "e9233215",
   "metadata": {},
   "outputs": [
    {
     "name": "stderr",
     "output_type": "stream",
     "text": [
      "c:\\Universidad Desktop\\2025\\Segundo\\DataScience\\Lab3_DS\\dml_env\\lib\\site-packages\\albumentations\\core\\validation.py:114: UserWarning: ShiftScaleRotate is a special case of Affine transform. Please use Affine transform instead.\n",
      "  original_init(self, **validated_kwargs)\n",
      "C:\\Users\\esteb\\AppData\\Local\\Temp\\ipykernel_980\\1482933142.py:8: UserWarning: Argument(s) 'var_limit' are not valid for transform GaussNoise\n",
      "  A.GaussNoise(var_limit=(5.0, 20.0), p=0.3),\n"
     ]
    },
    {
     "name": "stdout",
     "output_type": "stream",
     "text": [
      "Tamaño combinado (orig + augment): (600000, 784) (600000,)\n"
     ]
    }
   ],
   "source": [
    "# ----------------------------------------------------------------------\n",
    "# 4. Augmentación \n",
    "# ----------------------------------------------------------------------\n",
    "augmenter = A.Compose([\n",
    "    A.Rotate(limit=15, border_mode=0, p=0.5),\n",
    "    A.ShiftScaleRotate(shift_limit=0.1, scale_limit=0.1, rotate_limit=0, border_mode=0, p=0.5),\n",
    "    A.RandomBrightnessContrast(brightness_limit=0.2, contrast_limit=0.2, p=0.5),\n",
    "    A.GaussNoise(var_limit=(5.0, 20.0), p=0.3),\n",
    "])\n",
    "\n",
    "def augment_dataset(X_orig, y_orig, n_copies=1, img_size=IMG_SIZE):\n",
    "    X_list, y_list = [], []\n",
    "    for _ in range(n_copies):\n",
    "        for xi, yi in zip(X_orig, y_orig):\n",
    "            img = (xi.reshape(img_size) * 255).astype(\"uint8\")\n",
    "            aug = augmenter(image=img)[\"image\"]\n",
    "            aug = aug.astype(\"float32\") / 255.0\n",
    "            X_list.append(aug.flatten())\n",
    "            y_list.append(yi)\n",
    "    X_aug = np.stack(X_list, dtype=np.float32)\n",
    "    y_aug = np.array(y_list)\n",
    "    return X_aug, y_aug\n",
    "\n",
    "# Generar augmentaciones y mezclar\n",
    "X_aug, y_aug = augment_dataset(X, y, n_copies=1, img_size=IMG_SIZE)\n",
    "X_combined = np.vstack([X, X_aug])\n",
    "y_combined = np.hstack([y, y_aug])\n",
    "print(\"Tamaño combinado (orig + augment):\", X_combined.shape, y_combined.shape)"
   ]
  },
  {
   "cell_type": "code",
   "execution_count": null,
   "id": "8149a490",
   "metadata": {},
   "outputs": [
    {
     "name": "stdout",
     "output_type": "stream",
     "text": [
      "   · Dimensión reducida a 487 comps (con augmentación)\n"
     ]
    }
   ],
   "source": [
    "# ----------------------------------------------------------------------\n",
    "# Escalado y PCA sobre el dataset aumentado\n",
    "# ----------------------------------------------------------------------\n",
    "scaler = StandardScaler()\n",
    "X_scaled = scaler.fit_transform(X_combined)\n",
    "\n",
    "pca = PCA(n_components=PCA_VAR, svd_solver=\"full\", whiten=True, random_state=42)\n",
    "X_pca = pca.fit_transform(X_scaled)\n",
    "print(f\"   · Dimensión reducida a {X_pca.shape[1]} comps (con augmentación)\")"
   ]
  },
  {
   "cell_type": "code",
   "execution_count": 7,
   "id": "93edeec8",
   "metadata": {},
   "outputs": [
    {
     "name": "stdout",
     "output_type": "stream",
     "text": [
      "   · Train 480000   Test 120000\n"
     ]
    }
   ],
   "source": [
    "# ----------------------------------------------------------------------\n",
    "# 5. Split Train / Test\n",
    "# ----------------------------------------------------------------------\n",
    "X_tr, X_te, y_tr, y_te = train_test_split(\n",
    "    X_pca, y_combined, test_size=TEST_RATIO, stratify=y_combined, random_state=42)\n",
    "print(f\"   · Train {X_tr.shape[0]}   Test {X_te.shape[0]}\")\n",
    "\n",
    "X_tr = X_tr.astype(np.float32)\n",
    "X_te = X_te.astype(np.float32)"
   ]
  },
  {
   "cell_type": "code",
   "execution_count": 8,
   "id": "e73b006d",
   "metadata": {},
   "outputs": [],
   "source": [
    "# ----------------------------------------------------------------------\n",
    "# 6. Tensores y DataLoader  (DirectML device)\n",
    "# ----------------------------------------------------------------------\n",
    "device = torch_directml.device()\n",
    "Xtr_t  = torch.from_numpy(X_tr).to(device)\n",
    "ytr_t  = torch.from_numpy(y_tr).long().to(device)\n",
    "Xte_t  = torch.from_numpy(X_te).to(device)\n",
    "yte_t  = torch.from_numpy(y_te).long().to(device)\n",
    "\n",
    "train_ds = torch.utils.data.TensorDataset(Xtr_t, ytr_t)\n",
    "train_dl = torch.utils.data.DataLoader(train_ds, batch_size=BATCH_SZ, shuffle=True)"
   ]
  },
  {
   "cell_type": "code",
   "execution_count": 9,
   "id": "deed87e2",
   "metadata": {},
   "outputs": [],
   "source": [
    "# ---------------------------------------------------------------\n",
    "# 7. Modelo MLP\n",
    "# -------------------------------------------------------------------\n",
    "class MLP(nn.Module):\n",
    "    def __init__(self, in_dim, n_classes):\n",
    "        super().__init__()\n",
    "        self.net = nn.Sequential(\n",
    "            nn.Linear(in_dim, 128),\n",
    "            nn.ReLU(),\n",
    "            nn.Dropout(0.2),\n",
    "            nn.Linear(128, n_classes)\n",
    "        )\n",
    "    def forward(self, x):\n",
    "        return self.net(x)\n",
    "\n",
    "model = MLP(in_dim=X_pca.shape[1], n_classes=N_CLASSES).to(device)\n",
    "opt = optim.Adam(model.parameters(), lr=1e-3, weight_decay=1e-4)"
   ]
  },
  {
   "cell_type": "code",
   "execution_count": 10,
   "id": "3a937b0a",
   "metadata": {},
   "outputs": [
    {
     "name": "stdout",
     "output_type": "stream",
     "text": [
      "Entrenando MLP (DirectML) …\n",
      "Epoch 01/30  loss 1.3113  acc 60.48%\n",
      "Epoch 02/30  loss 0.9156  acc 65.85%\n",
      "Epoch 03/30  loss 0.8134  acc 67.51%\n",
      "Epoch 04/30  loss 0.7754  acc 68.41%\n",
      "Epoch 05/30  loss 0.7554  acc 68.91%\n",
      "Epoch 06/30  loss 0.7408  acc 69.24%\n",
      "Epoch 07/30  loss 0.7317  acc 69.53%\n",
      "Epoch 08/30  loss 0.7229  acc 69.77%\n",
      "Epoch 09/30  loss 0.7162  acc 69.95%\n",
      "Epoch 10/30  loss 0.7107  acc 70.05%\n",
      "Epoch 11/30  loss 0.7046  acc 69.97%\n",
      "Epoch 12/30  loss 0.7022  acc 70.24%\n",
      "Epoch 13/30  loss 0.6981  acc 70.29%\n",
      "Epoch 14/30  loss 0.6949  acc 70.48%\n",
      "Epoch 15/30  loss 0.6926  acc 70.52%\n",
      "Epoch 16/30  loss 0.6896  acc 70.54%\n",
      "Epoch 17/30  loss 0.6882  acc 70.52%\n",
      "Epoch 18/30  loss 0.6861  acc 70.67%\n",
      "Epoch 19/30  loss 0.6832  acc 70.65%\n",
      "Epoch 20/30  loss 0.6820  acc 70.89%\n",
      "Epoch 21/30  loss 0.6799  acc 70.85%\n",
      "Epoch 22/30  loss 0.6783  acc 70.90%\n",
      "Epoch 23/30  loss 0.6778  acc 70.75%\n",
      "Epoch 24/30  loss 0.6740  acc 70.83%\n",
      "Epoch 25/30  loss 0.6726  acc 70.93%\n",
      "Epoch 26/30  loss 0.6732  acc 70.97%\n",
      "Epoch 27/30  loss 0.6715  acc 71.01%\n",
      "Epoch 28/30  loss 0.6711  acc 71.00%\n",
      "Epoch 29/30  loss 0.6702  acc 71.10%\n",
      "Epoch 30/30  loss 0.6679  acc 71.11%\n"
     ]
    }
   ],
   "source": [
    "# --------------------------------------------------------------\n",
    "# 8. Entrenamiento\n",
    "# -------------------------------------------------------------------\n",
    "import warnings\n",
    "train_loss, val_acc = [], []\n",
    "\n",
    "with warnings.catch_warnings():\n",
    "    warnings.filterwarnings(\n",
    "        \"ignore\",\n",
    "        message=r\"The operator 'aten::lerp.Scalar_out' is not currently supported on the DML backend*\",\n",
    "        category=UserWarning\n",
    "    )\n",
    "\n",
    "    print(\"Entrenando MLP (DirectML) …\")\n",
    "    \n",
    "    crit = nn.CrossEntropyLoss()\n",
    "    best_acc = 0\n",
    "    patience = 5\n",
    "    stale = 0\n",
    "\n",
    "    for ep in range(1, EPOCHS + 1):\n",
    "        # ---- entrenamiento ----\n",
    "        running = 0.0\n",
    "        for xb, yb in train_dl:\n",
    "            opt.zero_grad()\n",
    "            loss = crit(model(xb), yb) \n",
    "            loss.backward()\n",
    "            opt.step()\n",
    "            running += loss.item()\n",
    "        epoch_loss = running / len(train_dl)\n",
    "        train_loss.append(epoch_loss)\n",
    "\n",
    "        # ---- validación rápida ----\n",
    "        with torch.no_grad():\n",
    "            preds = model(Xte_t).argmax(1)\n",
    "            acc = (preds == yte_t).float().mean().item()\n",
    "        val_acc.append(acc)\n",
    "        print(f\"Epoch {ep:02}/{EPOCHS}  loss {train_loss[-1]:.4f}  acc {acc*100:.2f}%\")\n",
    "\n",
    "                \n",
    "        if acc > best_acc + 1e-4:\n",
    "            best_acc = acc\n",
    "            stale = 0\n",
    "            best_state = model.state_dict()\n",
    "        else:\n",
    "            stale += 1\n",
    "            if stale >= patience:\n",
    "                print(\"Early stopping por estancamiento.\")\n",
    "                model.load_state_dict(best_state)\n",
    "                break"
   ]
  },
  {
   "cell_type": "code",
   "execution_count": 11,
   "id": "64057781",
   "metadata": {},
   "outputs": [
    {
     "data": {
      "image/png": "[encoded data removed]",
      "text/plain": [
       "<Figure size 1000x400 with 2 Axes>"
      ]
     },
     "metadata": {},
     "output_type": "display_data"
    },
    {
     "name": "stdout",
     "output_type": "stream",
     "text": [
      "\n",
      "✔ Accuracy test final: 71.11 %\n"
     ]
    }
   ],
   "source": [
    "# ---------------------------------------------------------------\n",
    "# 9. Evaluación\n",
    "# -------------------------------------------------------------------\n",
    "epochs = range(1, len(train_loss) + 1)\n",
    "\n",
    "plt.figure(figsize=(10, 4))\n",
    "\n",
    "# --- Loss ---\n",
    "plt.subplot(1, 2, 1)\n",
    "plt.plot(epochs, train_loss, marker='o')\n",
    "plt.title('MLP – Loss por época')\n",
    "plt.xlabel('Época')\n",
    "plt.ylabel('Loss')\n",
    "plt.grid(True)\n",
    "\n",
    "# --- Accuracy ---\n",
    "plt.subplot(1, 2, 2)\n",
    "plt.plot(epochs, [a*100 for a in val_acc], marker='o')\n",
    "plt.title('MLP – Accuracy de validación')\n",
    "plt.xlabel('Época')\n",
    "plt.ylabel('Accuracy (%)')\n",
    "plt.ylim(0, 100)\n",
    "plt.grid(True)\n",
    "\n",
    "plt.tight_layout()\n",
    "plt.show()\n",
    "\n",
    "print(f\"\\n✔ Accuracy test final: {val_acc[-1]*100:.2f} %\")"
   ]
  },
  {
   "cell_type": "markdown",
   "id": "a99688f1",
   "metadata": {},
   "source": [
    "Carga del Dataset y cargar e Dataloader"
   ]
  },
  {
   "cell_type": "code",
   "execution_count": 8,
   "id": "4ca27095",
   "metadata": {},
   "outputs": [
    {
     "name": "stdout",
     "output_type": "stream",
     "text": [
      "Shape batch imágenes: torch.Size([64, 1, 28, 28])\n",
      "Labels: tensor([3, 4, 1, 2, 3, 4, 4, 2, 0, 3])\n"
     ]
    }
   ],
   "source": [
    "# Transformación con augmentación para entrenamiento\n",
    "transform_augmented = transforms.Compose([\n",
    "    transforms.RandomRotation(15),\n",
    "    transforms.RandomHorizontalFlip(),\n",
    "    transforms.RandomResizedCrop(28, scale=(0.8, 1.0)),\n",
    "    transforms.ToTensor(),\n",
    "    transforms.Normalize((0.5,), (0.5,))\n",
    "])\n",
    "\n",
    "# Transformación sin augmentación (para test)\n",
    "transform_original = transforms.Compose([\n",
    "    transforms.ToTensor(),\n",
    "    transforms.Normalize((0.5,), (0.5,))\n",
    "])\n",
    "\n",
    "# Dataset y DataLoader\n",
    "train_dir = \"../data/PolyMNIST/MMNIST/train\" \n",
    "test_dir = \"../data/PolyMNIST/MMNIST/test\"   \n",
    "\n",
    "train_dataset = PolyMNISTDataset(root_dir=train_dir, transform=transform_augmented)  # <-- aquí sí usas augmentation\n",
    "test_dataset = PolyMNISTDataset(root_dir=test_dir, transform=transform_original)     # <-- aquí NO usas augmentation\n",
    "\n",
    "train_loader = DataLoader(train_dataset, batch_size=64, shuffle=True)\n",
    "test_loader = DataLoader(test_dataset, batch_size=64, shuffle=False)\n",
    "\n",
    "# Verifica que funciona\n",
    "images, labels = next(iter(train_loader))\n",
    "print(f\"Shape batch imágenes: {images.shape}\")\n",
    "print(f\"Labels: {labels[:10]}\")\n"
   ]
  },
  {
   "cell_type": "markdown",
   "id": "22901229",
   "metadata": {},
   "source": [
    "##### Modelo 1.2"
   ]
  },
  {
   "cell_type": "code",
   "execution_count": 9,
   "id": "f178fa07",
   "metadata": {},
   "outputs": [],
   "source": [
    "class CNNModel(nn.Module):\n",
    "    def __init__(self):\n",
    "        super(CNNModel, self).__init__()\n",
    "        self.conv1 = nn.Conv2d(in_channels=1, out_channels=16, kernel_size=3, padding=1)\n",
    "        self.conv2 = nn.Conv2d(in_channels=16, out_channels=32, kernel_size=3, padding=1)\n",
    "        self.pool = nn.MaxPool2d(kernel_size=2, stride=2)  # Reducción de tamaño a la mitad\n",
    "        self.fc1 = nn.Linear(32 * 7 * 7, 128)  # Flatten final\n",
    "        self.fc2 = nn.Linear(128, 5)  # 5 clases: m0 a m4\n",
    "\n",
    "    def forward(self, x):\n",
    "        x = self.pool(F.relu(self.conv1(x)))  # [1, 28, 28] -> [16, 14, 14]\n",
    "        x = self.pool(F.relu(self.conv2(x)))  # [16, 14, 14] -> [32, 7, 7]\n",
    "        x = x.view(-1, 32 * 7 * 7)\n",
    "        x = F.relu(self.fc1(x))\n",
    "        return self.fc2(x)"
   ]
  },
  {
   "cell_type": "markdown",
   "id": "e4fc51f7",
   "metadata": {},
   "source": [
    "Entrenamiento modelo 1.2"
   ]
  },
  {
   "cell_type": "code",
   "execution_count": 10,
   "id": "d32f4e88",
   "metadata": {},
   "outputs": [
    {
     "name": "stdout",
     "output_type": "stream",
     "text": [
      "Modelo en: cuda:0\n",
      "Época 1/5 — Loss: 0.4160, Accuracy: 0.8341\n",
      "Época 2/5 — Loss: 0.1777, Accuracy: 0.9337\n",
      "Época 3/5 — Loss: 0.1382, Accuracy: 0.9493\n",
      "Época 4/5 — Loss: 0.1174, Accuracy: 0.9570\n",
      "Época 5/5 — Loss: 0.1014, Accuracy: 0.9628\n",
      "\n",
      "— Test Loss: 0.0463, Test Accuracy: 0.9843\n"
     ]
    }
   ],
   "source": [
    "# Función de pérdida y optimizador\n",
    "model = CNNModel().to(device)\n",
    "print(\"Modelo en:\", next(model.parameters()).device)\n",
    "criterion = nn.CrossEntropyLoss()\n",
    "optimizer = torch.optim.Adam(model.parameters(), lr=0.001)\n",
    "\n",
    "# Verifica que estemos entrenando en GPU\n",
    "assert device.type == \"cuda\", \"La GPU no se está utilizando. Revisa tu configuración.\"\n",
    "\n",
    "train_losses = []\n",
    "train_accuracies = []\n",
    "\n",
    "# Bucle de entrenamiento\n",
    "epochs = 5\n",
    "for epoch in range(1, epochs+1):\n",
    "    model.train()\n",
    "    running_loss = 0.0\n",
    "    correct = 0\n",
    "    total = 0\n",
    "\n",
    "    for images, labels in train_loader:\n",
    "        images, labels = images.to(device), labels.to(device)\n",
    "\n",
    "        optimizer.zero_grad()\n",
    "        outputs = model(images)\n",
    "        loss = criterion(outputs, labels)\n",
    "        loss.backward()\n",
    "        optimizer.step()\n",
    "\n",
    "        running_loss += loss.item() * images.size(0)\n",
    "        _, preds = torch.max(outputs, 1)\n",
    "        correct += (preds == labels).sum().item()\n",
    "        total += labels.size(0)\n",
    "\n",
    "    epoch_loss = running_loss / total\n",
    "    epoch_acc  = correct / total\n",
    "    train_losses.append(epoch_loss)\n",
    "    train_accuracies.append(epoch_acc)\n",
    "    print(f\"Época {epoch}/{epochs} — Loss: {epoch_loss:.4f}, Accuracy: {epoch_acc:.4f}\")\n",
    "\n",
    "# Evaluación en el set de test\n",
    "model.eval()\n",
    "test_loss = 0.0\n",
    "correct = 0\n",
    "total = 0\n",
    "\n",
    "with torch.no_grad():\n",
    "    for images, labels in test_loader:\n",
    "        images, labels = images.to(device), labels.to(device)\n",
    "        outputs = model(images)\n",
    "        loss = criterion(outputs, labels)\n",
    "\n",
    "        test_loss += loss.item() * images.size(0)\n",
    "        _, preds = torch.max(outputs, 1)\n",
    "        correct += (preds == labels).sum().item()\n",
    "        total += labels.size(0)\n",
    "\n",
    "test_loss /= total\n",
    "test_acc  = correct / total\n",
    "print(f\"\\n— Test Loss: {test_loss:.4f}, Test Accuracy: {test_acc:.4f}\")"
   ]
  }
 ],
 "metadata": {
  "kernelspec": {
   "display_name": "Python 3",
   "language": "python",
   "name": "python3"
  },
  "language_info": {
   "codemirror_mode": {
    "name": "ipython",
    "version": 3
   },
   "file_extension": ".py",
   "mimetype": "text/x-python",
   "name": "python",
   "nbconvert_exporter": "python",
   "pygments_lexer": "ipython3",
   "version": "3.10.11"
  }
 },
 "nbformat": 4,
 "nbformat_minor": 5
}
