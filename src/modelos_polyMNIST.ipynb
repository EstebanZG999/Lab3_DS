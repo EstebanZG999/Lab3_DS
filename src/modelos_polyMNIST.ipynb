{
 "cells": [
  {
   "cell_type": "markdown",
   "id": "1c68954b",
   "metadata": {},
   "source": [
    "# Modelos de Deep Learning\n",
    "\n",
    "Laboratorio 03 – Deep Learning\n",
    "\n",
    "Edwin Ortega 22305 - Esteban Zambrano 22119 - Diego García 22404\n",
    "\n",
    "Link del repositorio:<br>\n",
    "https://github.com/EstebanZG999/Lab3_DS"
   ]
  },
  {
   "cell_type": "markdown",
   "id": "0925fa9e",
   "metadata": {},
   "source": [
    "### Imports"
   ]
  },
  {
   "cell_type": "code",
   "execution_count": 21,
   "id": "a62ac79a",
   "metadata": {},
   "outputs": [],
   "source": [
    "import os\n",
    "import numpy as np\n",
    "import pandas as pd\n",
    "import cv2\n",
    "from PIL import Image\n",
    "from torch.utils.data import Dataset, DataLoader\n",
    "from torchvision import transforms\n",
    "import torchvision.transforms as transforms\n",
    "import matplotlib.pyplot as plt\n",
    "import torch.nn as nn\n",
    "import torch.optim as optim\n",
    "import torch.nn.functional as F\n",
    "import torch\n",
    "#TensorFlow no está instalado en este entorno."
   ]
  },
  {
   "cell_type": "code",
   "execution_count": null,
   "id": "5e51072c",
   "metadata": {},
   "outputs": [],
   "source": [
    "import tensorflow as tf\n",
    "from tensorflow.keras import models, layers\n",
    "from tensorflow.keras.utils import Sequence, to_categorical\n",
    "from sklearn.model_selection import train_test_split\n",
    "from tensorflow.keras.callbacks import EarlyStopping"
   ]
  },
  {
   "cell_type": "markdown",
   "id": "297b042f",
   "metadata": {},
   "source": [
    "### Verifica entorno"
   ]
  },
  {
   "cell_type": "code",
   "execution_count": 22,
   "id": "40e6b897",
   "metadata": {},
   "outputs": [
    {
     "name": "stdout",
     "output_type": "stream",
     "text": [
      "¿CUDA disponible?: True\n",
      "GPU detectada: NVIDIA GeForce RTX 4060 Laptop GPU\n"
     ]
    }
   ],
   "source": [
    "# Verifica CUDA disponible\n",
    "print(\"¿CUDA disponible?:\", torch.cuda.is_available())\n",
    "\n",
    "# Verifica GPU\n",
    "if torch.cuda.is_available():\n",
    "    print(\"GPU detectada:\", torch.cuda.get_device_name(0))"
   ]
  },
  {
   "cell_type": "markdown",
   "id": "48c4f7ed",
   "metadata": {},
   "source": [
    "### Preprocesamiento y Dataset"
   ]
  },
  {
   "cell_type": "code",
   "execution_count": 23,
   "id": "a968f492",
   "metadata": {},
   "outputs": [],
   "source": [
    "class PolyMNISTDataset(Dataset):\n",
    "    def __init__(self, root_dir, transform=None):\n",
    "        \"\"\"\n",
    "        Dataset personalizado para PolyMNIST.\n",
    "        - root_dir: carpeta raíz que contiene subcarpetas m0, m1, ..., m4.\n",
    "        - transform: transformaciones a aplicar a cada imagen.\n",
    "        \"\"\"\n",
    "        self.image_paths = []\n",
    "        self.labels = []\n",
    "        self.transform = transform\n",
    "\n",
    "        for label in range(5):  # m0 = 0, m1 = 1, ..., m4 = 4\n",
    "            class_dir = os.path.join(root_dir, f\"m{label}\")\n",
    "            for img_name in os.listdir(class_dir):\n",
    "                if img_name.endswith(\".png\"):\n",
    "                    self.image_paths.append(os.path.join(class_dir, img_name))\n",
    "                    self.labels.append(label)\n",
    "\n",
    "    def __len__(self):\n",
    "        return len(self.image_paths)\n",
    "\n",
    "    def __getitem__(self, idx):\n",
    "        img_path = self.image_paths[idx]\n",
    "        label = self.labels[idx]\n",
    "\n",
    "        image = Image.open(img_path).convert(\"L\")  # convertir a escala de grises\n",
    "        if self.transform:\n",
    "            image = self.transform(image)\n",
    "\n",
    "        return image, label\n"
   ]
  },
  {
   "cell_type": "markdown",
   "id": "9c0fc743",
   "metadata": {},
   "source": [
    "Cargar el dataset y crear el DataLoader"
   ]
  },
  {
   "cell_type": "code",
   "execution_count": 24,
   "id": "ca56382e",
   "metadata": {},
   "outputs": [
    {
     "name": "stdout",
     "output_type": "stream",
     "text": [
      "Shape batch imágenes: torch.Size([64, 1, 28, 28])\n",
      "Labels: tensor([4, 4, 2, 0, 3, 4, 0, 0, 0, 4])\n"
     ]
    }
   ],
   "source": [
    "# Definir transformaciones\n",
    "transform = transforms.Compose([\n",
    "    transforms.Resize((28, 28)),       # Asegura tamaño uniforme\n",
    "    transforms.ToTensor(),             # Convierte a tensor (C, H, W)\n",
    "    transforms.Normalize((0.5,), (0.5,))  # Normaliza a [-1, 1]\n",
    "])\n",
    "\n",
    "# Dataset y DataLoader\n",
    "train_dir = \"../data/PolyMNIST/MMNIST/train\" \n",
    "test_dir = \"../data/PolyMNIST/MMNIST/test\"   \n",
    "\n",
    "train_dataset = PolyMNISTDataset(root_dir=train_dir, transform=transform)\n",
    "test_dataset = PolyMNISTDataset(root_dir=test_dir, transform=transform)\n",
    "\n",
    "train_loader = DataLoader(train_dataset, batch_size=64, shuffle=True)\n",
    "test_loader = DataLoader(test_dataset, batch_size=64, shuffle=False)\n",
    "\n",
    "# Verifica que funciona\n",
    "images, labels = next(iter(train_loader))\n",
    "print(f\"Shape batch imágenes: {images.shape}\")  # Esperado: (64, 1, 28, 28)\n",
    "print(f\"Labels: {labels[:10]}\")\n"
   ]
  },
  {
   "cell_type": "markdown",
   "id": "4d185130",
   "metadata": {},
   "source": [
    "GPU Check en el loader"
   ]
  },
  {
   "cell_type": "code",
   "execution_count": 25,
   "id": "90b41fe8",
   "metadata": {},
   "outputs": [
    {
     "name": "stdout",
     "output_type": "stream",
     "text": [
      "Entrenando en: cuda\n",
      "Datos en GPU: cuda:0\n"
     ]
    }
   ],
   "source": [
    "# GPU Check en el loader\n",
    "device = torch.device(\"cuda\" if torch.cuda.is_available() else \"cpu\")\n",
    "print(\"Entrenando en:\", device)\n",
    "\n",
    "# Mover un batch de prueba a GPU\n",
    "images, labels = next(iter(train_loader))\n",
    "images, labels = images.to(device), labels.to(device)\n",
    "print(\"Datos en GPU:\", images.device)"
   ]
  },
  {
   "cell_type": "markdown",
   "id": "0afc5df7",
   "metadata": {},
   "source": [
    "### Primer Modelo CNN "
   ]
  },
  {
   "cell_type": "code",
   "execution_count": 26,
   "id": "6efd6285",
   "metadata": {},
   "outputs": [],
   "source": [
    "class CNNModel(nn.Module):\n",
    "    def __init__(self):\n",
    "        super(CNNModel, self).__init__()\n",
    "        self.conv1 = nn.Conv2d(in_channels=1, out_channels=16, kernel_size=3, padding=1)\n",
    "        self.conv2 = nn.Conv2d(in_channels=16, out_channels=32, kernel_size=3, padding=1)\n",
    "        self.pool = nn.MaxPool2d(kernel_size=2, stride=2)  # Reducción de tamaño a la mitad\n",
    "        self.fc1 = nn.Linear(32 * 7 * 7, 128)  # Flatten final\n",
    "        self.fc2 = nn.Linear(128, 5)  # 5 clases: m0 a m4\n",
    "\n",
    "    def forward(self, x):\n",
    "        x = self.pool(F.relu(self.conv1(x)))  # [1, 28, 28] -> [16, 14, 14]\n",
    "        x = self.pool(F.relu(self.conv2(x)))  # [16, 14, 14] -> [32, 7, 7]\n",
    "        x = x.view(-1, 32 * 7 * 7)\n",
    "        x = F.relu(self.fc1(x))\n",
    "        return self.fc2(x)"
   ]
  },
  {
   "cell_type": "markdown",
   "id": "2702e105",
   "metadata": {},
   "source": [
    "##### Entrenaiento primer modelo"
   ]
  },
  {
   "cell_type": "code",
   "execution_count": 27,
   "id": "335ae0c4",
   "metadata": {},
   "outputs": [
    {
     "name": "stdout",
     "output_type": "stream",
     "text": [
      "Modelo en: cuda:0\n",
      "Época 1/5 — Loss: 0.2996, Accuracy: 0.8850\n",
      "Época 2/5 — Loss: 0.0941, Accuracy: 0.9668\n",
      "Época 3/5 — Loss: 0.0583, Accuracy: 0.9792\n",
      "Época 4/5 — Loss: 0.0435, Accuracy: 0.9846\n",
      "Época 5/5 — Loss: 0.0358, Accuracy: 0.9872\n",
      "\n",
      "— Test Loss: 0.0321, Test Accuracy: 0.9888\n"
     ]
    }
   ],
   "source": [
    "# Función de pérdida y optimizador\n",
    "model = CNNModel().to(device)\n",
    "print(\"Modelo en:\", next(model.parameters()).device)\n",
    "criterion = nn.CrossEntropyLoss()\n",
    "optimizer = torch.optim.Adam(model.parameters(), lr=0.001)\n",
    "\n",
    "# Verifica que estemos entrenando en GPU\n",
    "assert device.type == \"cuda\", \"La GPU no se está utilizando. Revisa tu configuración.\"\n",
    "\n",
    "train_losses = []\n",
    "train_accuracies = []\n",
    "\n",
    "# Bucle de entrenamiento\n",
    "epochs = 5\n",
    "for epoch in range(1, epochs+1):\n",
    "    model.train()\n",
    "    running_loss = 0.0\n",
    "    correct = 0\n",
    "    total = 0\n",
    "\n",
    "    for images, labels in train_loader:\n",
    "        images, labels = images.to(device), labels.to(device)\n",
    "\n",
    "        optimizer.zero_grad()\n",
    "        outputs = model(images)\n",
    "        loss = criterion(outputs, labels)\n",
    "        loss.backward()\n",
    "        optimizer.step()\n",
    "\n",
    "        running_loss += loss.item() * images.size(0)\n",
    "        _, preds = torch.max(outputs, 1)\n",
    "        correct += (preds == labels).sum().item()\n",
    "        total += labels.size(0)\n",
    "\n",
    "    epoch_loss = running_loss / total\n",
    "    epoch_acc  = correct / total\n",
    "    train_losses.append(epoch_loss)\n",
    "    train_accuracies.append(epoch_acc)\n",
    "    print(f\"Época {epoch}/{epochs} — Loss: {epoch_loss:.4f}, Accuracy: {epoch_acc:.4f}\")\n",
    "\n",
    "# Evaluación en el set de test\n",
    "model.eval()\n",
    "test_loss = 0.0\n",
    "correct = 0\n",
    "total = 0\n",
    "\n",
    "with torch.no_grad():\n",
    "    for images, labels in test_loader:\n",
    "        images, labels = images.to(device), labels.to(device)\n",
    "        outputs = model(images)\n",
    "        loss = criterion(outputs, labels)\n",
    "\n",
    "        test_loss += loss.item() * images.size(0)\n",
    "        _, preds = torch.max(outputs, 1)\n",
    "        correct += (preds == labels).sum().item()\n",
    "        total += labels.size(0)\n",
    "\n",
    "test_loss /= total\n",
    "test_acc  = correct / total\n",
    "print(f\"\\n— Test Loss: {test_loss:.4f}, Test Accuracy: {test_acc:.4f}\")"
   ]
  },
  {
   "cell_type": "code",
   "execution_count": 28,
   "id": "c8645667",
   "metadata": {},
   "outputs": [
    {
     "data": {
      "image/png": "[encoded data removed]",
      "text/plain": [
       "<Figure size 1000x400 with 2 Axes>"
      ]
     },
     "metadata": {},
     "output_type": "display_data"
    }
   ],
   "source": [
    "plt.figure(figsize=(10, 4))\n",
    "\n",
    "# Gráfica del Loss\n",
    "plt.subplot(1, 2, 1)\n",
    "plt.plot(train_losses, marker='o', label=\"Loss de entrenamiento\")\n",
    "plt.xlabel(\"Épocas\")\n",
    "plt.ylabel(\"Loss\")\n",
    "plt.title(\"Evolución del Loss\")\n",
    "plt.grid(True)\n",
    "plt.legend()\n",
    "\n",
    "# Gráfica del Accuracy\n",
    "plt.subplot(1, 2, 2)\n",
    "plt.plot(train_accuracies, marker='o', color='green', label=\"Accuracy de entrenamiento\")\n",
    "plt.xlabel(\"Épocas\")\n",
    "plt.ylabel(\"Accuracy\")\n",
    "plt.title(\"Evolución del Accuracy\")\n",
    "plt.grid(True)\n",
    "plt.legend()\n",
    "\n",
    "plt.tight_layout()\n",
    "plt.show()"
   ]
  },
  {
   "cell_type": "markdown",
   "id": "00fc26aa",
   "metadata": {},
   "source": [
    "### Modelo de Redes Neuronales"
   ]
  },
  {
   "cell_type": "code",
   "execution_count": 10,
   "id": "75fa84fe",
   "metadata": {},
   "outputs": [],
   "source": [
    "class PolyMNISTGenerator(Sequence):\n",
    "    def __init__(self, file_list, batch_size=64, img_size=(28, 28), shuffle=True):\n",
    "        self.file_list = file_list  # lista de (ruta_completa, nombre_archivo)\n",
    "        self.batch_size = batch_size\n",
    "        self.img_size = img_size\n",
    "        self.shuffle = shuffle\n",
    "        self.on_epoch_end()\n",
    "\n",
    "    def __len__(self):\n",
    "        return int(np.ceil(len(self.file_list) / self.batch_size))\n",
    "\n",
    "    def __getitem__(self, index):\n",
    "        batch_files = self.file_list[index*self.batch_size:(index+1)*self.batch_size]\n",
    "        X = np.zeros((len(batch_files), *self.img_size, 1), dtype='float32')\n",
    "        y = np.zeros((len(batch_files), 10), dtype='float32')\n",
    "\n",
    "        for i, (full_path, fname) in enumerate(batch_files):\n",
    "            img = cv2.imread(full_path, cv2.IMREAD_GRAYSCALE)\n",
    "            img = cv2.resize(img, self.img_size)\n",
    "            img = img.astype('float32') / 255.0\n",
    "            X[i] = img.reshape(*self.img_size, 1)\n",
    "\n",
    "            label = int(os.path.splitext(fname)[0].split('.')[1])\n",
    "            y[i] = to_categorical(label, num_classes=10)\n",
    "\n",
    "        return X, y\n",
    "\n",
    "    def on_epoch_end(self):\n",
    "        if self.shuffle:\n",
    "            np.random.shuffle(self.file_list)\n"
   ]
  },
  {
   "cell_type": "code",
   "execution_count": 11,
   "id": "58f1ca29",
   "metadata": {},
   "outputs": [],
   "source": [
    "def collect_files(base_dir, modalities=[\"m0\", \"m1\", \"m2\", \"m3\", \"m4\"]):\n",
    "    file_list = []\n",
    "    for mod in modalities:\n",
    "        mod_path = os.path.join(base_dir, mod)\n",
    "        for fname in os.listdir(mod_path):\n",
    "            if fname.endswith('.png'):\n",
    "                full_path = os.path.join(mod_path, fname)\n",
    "                file_list.append((full_path, fname))\n",
    "    return file_list\n",
    "\n",
    "# Ruta base\n",
    "BASE_DIR = \"../data/PolyMNIST/MMNIST/train\"\n",
    "\n",
    "# Recolectar todos los archivos\n",
    "all_files = collect_files(BASE_DIR)\n",
    "\n",
    "# Dividir en train/val\n",
    "train_files, val_files = train_test_split(all_files, test_size=0.2, random_state=42)\n",
    "\n",
    "# Crear generadores\n",
    "train_gen = PolyMNISTGenerator(train_files, batch_size=64)\n",
    "val_gen = PolyMNISTGenerator(val_files, batch_size=64, shuffle=False)\n"
   ]
  },
  {
   "cell_type": "code",
   "execution_count": 12,
   "id": "29d69986",
   "metadata": {},
   "outputs": [],
   "source": [
    "RNModel = models.Sequential([\n",
    "    layers.Input(shape=(28, 28, 1)),\n",
    "    layers.Flatten(),\n",
    "    layers.Dense(128, activation='relu'),\n",
    "    layers.Dense(10, activation='softmax')\n",
    "])\n"
   ]
  },
  {
   "cell_type": "code",
   "execution_count": 18,
   "id": "76ba1048",
   "metadata": {},
   "outputs": [],
   "source": [
    "early_stop = EarlyStopping(\n",
    "    monitor='val_loss',\n",
    "    patience=3,\n",
    "    restore_best_weights=True\n",
    ")"
   ]
  },
  {
   "cell_type": "code",
   "execution_count": 19,
   "id": "e6417b43",
   "metadata": {},
   "outputs": [
    {
     "name": "stdout",
     "output_type": "stream",
     "text": [
      "Epoch 1/20\n",
      "\u001b[1m3750/3750\u001b[0m \u001b[32m━━━━━━━━━━━━━━━━━━━━\u001b[0m\u001b[37m\u001b[0m \u001b[1m237s\u001b[0m 63ms/step - accuracy: 0.8271 - loss: 0.5541 - val_accuracy: 0.8031 - val_loss: 0.6472\n",
      "Epoch 2/20\n",
      "\u001b[1m3750/3750\u001b[0m \u001b[32m━━━━━━━━━━━━━━━━━━━━\u001b[0m\u001b[37m\u001b[0m \u001b[1m126s\u001b[0m 34ms/step - accuracy: 0.8310 - loss: 0.5431 - val_accuracy: 0.8135 - val_loss: 0.6312\n",
      "Epoch 3/20\n",
      "\u001b[1m3750/3750\u001b[0m \u001b[32m━━━━━━━━━━━━━━━━━━━━\u001b[0m\u001b[37m\u001b[0m \u001b[1m126s\u001b[0m 34ms/step - accuracy: 0.8340 - loss: 0.5336 - val_accuracy: 0.8150 - val_loss: 0.6205\n",
      "Epoch 4/20\n",
      "\u001b[1m3750/3750\u001b[0m \u001b[32m━━━━━━━━━━━━━━━━━━━━\u001b[0m\u001b[37m\u001b[0m \u001b[1m127s\u001b[0m 34ms/step - accuracy: 0.8371 - loss: 0.5231 - val_accuracy: 0.8018 - val_loss: 0.6436\n",
      "Epoch 5/20\n",
      "\u001b[1m3750/3750\u001b[0m \u001b[32m━━━━━━━━━━━━━━━━━━━━\u001b[0m\u001b[37m\u001b[0m \u001b[1m126s\u001b[0m 34ms/step - accuracy: 0.8360 - loss: 0.5256 - val_accuracy: 0.8213 - val_loss: 0.6121\n",
      "Epoch 6/20\n",
      "\u001b[1m3750/3750\u001b[0m \u001b[32m━━━━━━━━━━━━━━━━━━━━\u001b[0m\u001b[37m\u001b[0m \u001b[1m125s\u001b[0m 33ms/step - accuracy: 0.8386 - loss: 0.5148 - val_accuracy: 0.8183 - val_loss: 0.6154\n",
      "Epoch 7/20\n",
      "\u001b[1m3750/3750\u001b[0m \u001b[32m━━━━━━━━━━━━━━━━━━━━\u001b[0m\u001b[37m\u001b[0m \u001b[1m123s\u001b[0m 33ms/step - accuracy: 0.8405 - loss: 0.5104 - val_accuracy: 0.8134 - val_loss: 0.6263\n",
      "Epoch 8/20\n",
      "\u001b[1m3750/3750\u001b[0m \u001b[32m━━━━━━━━━━━━━━━━━━━━\u001b[0m\u001b[37m\u001b[0m \u001b[1m165s\u001b[0m 44ms/step - accuracy: 0.8430 - loss: 0.5055 - val_accuracy: 0.8215 - val_loss: 0.6067\n",
      "Epoch 9/20\n",
      "\u001b[1m3750/3750\u001b[0m \u001b[32m━━━━━━━━━━━━━━━━━━━━\u001b[0m\u001b[37m\u001b[0m \u001b[1m202s\u001b[0m 54ms/step - accuracy: 0.8457 - loss: 0.4948 - val_accuracy: 0.8231 - val_loss: 0.6105\n",
      "Epoch 10/20\n",
      "\u001b[1m3750/3750\u001b[0m \u001b[32m━━━━━━━━━━━━━━━━━━━━\u001b[0m\u001b[37m\u001b[0m \u001b[1m184s\u001b[0m 49ms/step - accuracy: 0.8442 - loss: 0.4969 - val_accuracy: 0.8218 - val_loss: 0.6186\n",
      "Epoch 11/20\n",
      "\u001b[1m3750/3750\u001b[0m \u001b[32m━━━━━━━━━━━━━━━━━━━━\u001b[0m\u001b[37m\u001b[0m \u001b[1m180s\u001b[0m 48ms/step - accuracy: 0.8455 - loss: 0.4956 - val_accuracy: 0.8141 - val_loss: 0.6350\n"
     ]
    }
   ],
   "source": [
    "RNModel.compile(optimizer='adam',\n",
    "              loss='categorical_crossentropy',\n",
    "              metrics=['accuracy'])\n",
    "\n",
    "history = RNModel.fit(\n",
    "    train_gen,\n",
    "    epochs=20,\n",
    "    validation_data=val_gen,\n",
    "    callbacks=[early_stop]\n",
    ")\n"
   ]
  },
  {
   "cell_type": "code",
   "execution_count": 20,
   "id": "50607c4f",
   "metadata": {},
   "outputs": [
    {
     "name": "stdout",
     "output_type": "stream",
     "text": [
      "\u001b[1m938/938\u001b[0m \u001b[32m━━━━━━━━━━━━━━━━━━━━\u001b[0m\u001b[37m\u001b[0m \u001b[1m22s\u001b[0m 24ms/step - accuracy: 0.8228 - loss: 0.6067\n",
      "Precisión en validación: 82.15%\n"
     ]
    },
    {
     "data": {
      "image/png": "[encoded data removed]",
      "text/plain": [
       "<Figure size 640x480 with 1 Axes>"
      ]
     },
     "metadata": {},
     "output_type": "display_data"
    }
   ],
   "source": [
    "val_loss, val_acc = RNModel.evaluate(val_gen)\n",
    "print(f\"Precisión en validación: {val_acc*100:.2f}%\")\n",
    "\n",
    "plt.plot(history.history['accuracy'], label='Entrenamiento')\n",
    "plt.plot(history.history['val_accuracy'], label='Validación')\n",
    "plt.title('Precisión durante el entrenamiento')\n",
    "plt.xlabel('Épocas')\n",
    "plt.ylabel('Precisión')\n",
    "plt.legend()\n",
    "plt.grid(True)\n",
    "plt.tight_layout()\n",
    "plt.show()\n"
   ]
  }
 ],
 "metadata": {
  "kernelspec": {
   "display_name": "Python 3",
   "language": "python",
   "name": "python3"
  },
  "language_info": {
   "codemirror_mode": {
    "name": "ipython",
    "version": 3
   },
   "file_extension": ".py",
   "mimetype": "text/x-python",
   "name": "python",
   "nbconvert_exporter": "python",
   "pygments_lexer": "ipython3",
   "version": "3.10.11"
  }
 },
 "nbformat": 4,
 "nbformat_minor": 5
}
